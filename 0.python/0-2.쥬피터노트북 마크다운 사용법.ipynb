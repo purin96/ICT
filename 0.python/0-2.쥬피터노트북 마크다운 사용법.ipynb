{
 "cells": [
  {
   "cell_type": "markdown",
   "metadata": {},
   "source": [
    "# Python with jupyter notebook"
   ]
  },
  {
   "cell_type": "markdown",
   "metadata": {},
   "source": [
    "# Python language\n",
    "## introduction to python\n",
    "### variable\n",
    "\n",
    "\n",
    "\n",
    "* python language\n",
    "  * java language \n",
    "  * c++ \n",
    "  * c#\n",
    "* python 1\n",
    "* python 2"
   ]
  },
  {
   "cell_type": "markdown",
   "metadata": {},
   "source": [
    "#### Markdown practice"
   ]
  },
  {
   "cell_type": "markdown",
   "metadata": {},
   "source": [
    "# Hello markdown1\n",
    "## Hello markdown2\n",
    "### Hello markdown3\n",
    "#### Hello markdown4\n",
    "\n",
    "* python 2.7\n",
    "* python 3.5\n",
    "\n",
    "```python\n",
    "s = \"Python syntax highlighting\"\n",
    "print s\n",
    "def add(a, b):\n",
    "    return a + b\n",
    "```\n",
    "\n",
    "> Blockquotes starts\n",
    "\n",
    "\n",
    "\n",
    "> This line is part of the same quote.\n",
    "\n",
    "> Good\n",
    "\n",
    "\n",
    "\n",
    "This is *python*\n",
    "\n",
    "This is **python**\n",
    "\n",
    "This is python\n",
    "\n",
    "[python webpage](https://www.python.org)\n",
    "\n",
    "[google page](https://google.com)\n",
    "\n",
    "---\n",
    " * 이것은 로컬 이미지\n",
    "![python image](./image/pythonimg.png)\n",
    "\n",
    "---\n",
    "\n",
    " * 이것은 웹 이미지<br>\n",
    "https://www.raspberrypi.org/documentation/usage/python/images/python-logo.png"
   ]
  },
  {
   "cell_type": "markdown",
   "metadata": {},
   "source": [
    "### Markdown\n",
    " - 문서의 구조와 내용을 한번에 정의 \n",
    " - 코드를 설명하거나 노트북 파일에 이론적 배경 설명을 위해 사용\n",
    " - [마크다운 참고 사이트](https://github.com/adam-p/markdown-here/wiki/Markdown-Cheatsheet)"
   ]
  },
  {
   "cell_type": "markdown",
   "metadata": {},
   "source": [
    "### 탭을 한꺼번에 당겨올때"
   ]
  },
  {
   "cell_type": "markdown",
   "metadata": {},
   "source": [
    "SHIFT-TAB"
   ]
  },
  {
   "cell_type": "code",
   "execution_count": null,
   "metadata": {},
   "outputs": [],
   "source": []
  },
  {
   "cell_type": "code",
   "execution_count": null,
   "metadata": {},
   "outputs": [],
   "source": []
  }
 ],
 "metadata": {
  "kernelspec": {
   "display_name": "Python 3",
   "language": "python",
   "name": "python3"
  },
  "language_info": {
   "codemirror_mode": {
    "name": "ipython",
    "version": 3
   },
   "file_extension": ".py",
   "mimetype": "text/x-python",
   "name": "python",
   "nbconvert_exporter": "python",
   "pygments_lexer": "ipython3",
   "version": "3.10.11"
  },
  "toc": {
   "base_numbering": 1,
   "nav_menu": {},
   "number_sections": true,
   "sideBar": true,
   "skip_h1_title": false,
   "title_cell": "Table of Contents",
   "title_sidebar": "Contents",
   "toc_cell": false,
   "toc_position": {
    "height": "calc(100% - 180px)",
    "left": "10px",
    "top": "150px",
    "width": "165px"
   },
   "toc_section_display": true,
   "toc_window_display": true
  },
  "varInspector": {
   "cols": {
    "lenName": 16,
    "lenType": 16,
    "lenVar": 40
   },
   "kernels_config": {
    "python": {
     "delete_cmd_postfix": "",
     "delete_cmd_prefix": "del ",
     "library": "var_list.py",
     "varRefreshCmd": "print(var_dic_list())"
    },
    "r": {
     "delete_cmd_postfix": ") ",
     "delete_cmd_prefix": "rm(",
     "library": "var_list.r",
     "varRefreshCmd": "cat(var_dic_list()) "
    }
   },
   "types_to_exclude": [
    "module",
    "function",
    "builtin_function_or_method",
    "instance",
    "_Feature"
   ],
   "window_display": false
  }
 },
 "nbformat": 4,
 "nbformat_minor": 1
}
