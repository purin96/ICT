{
 "cells": [
  {
   "cell_type": "markdown",
   "metadata": {},
   "source": [
    "## 영수증을 분석하자!\n",
    "\n",
    "https://pypi.org/project/easyocr/"
   ]
  },
  {
   "cell_type": "code",
   "execution_count": 1,
   "metadata": {},
   "outputs": [
    {
     "name": "stdout",
     "output_type": "stream",
     "text": [
      "Requirement already satisfied: easyocr in c:\\users\\miran\\appdata\\local\\programs\\python\\python39\\lib\\site-packages (1.6.1)\n",
      "Requirement already satisfied: torch in c:\\users\\miran\\appdata\\local\\programs\\python\\python39\\lib\\site-packages (from easyocr) (1.12.1)\n",
      "Requirement already satisfied: torchvision>=0.5 in c:\\users\\miran\\appdata\\local\\programs\\python\\python39\\lib\\site-packages (from easyocr) (0.13.1)\n",
      "Collecting opencv-python-headless<=4.5.4.60 (from easyocr)\n",
      "  Using cached opencv_python_headless-4.5.4.60-cp39-cp39-win_amd64.whl (35.0 MB)\n",
      "Requirement already satisfied: scipy in c:\\users\\miran\\appdata\\local\\programs\\python\\python39\\lib\\site-packages (from easyocr) (1.9.1)\n",
      "Requirement already satisfied: numpy in c:\\users\\miran\\appdata\\local\\programs\\python\\python39\\lib\\site-packages (from easyocr) (1.23.2)\n",
      "Requirement already satisfied: Pillow in c:\\users\\miran\\appdata\\local\\programs\\python\\python39\\lib\\site-packages (from easyocr) (9.2.0)\n",
      "Requirement already satisfied: scikit-image in c:\\users\\miran\\appdata\\local\\programs\\python\\python39\\lib\\site-packages (from easyocr) (0.19.3)\n",
      "Requirement already satisfied: python-bidi in c:\\users\\miran\\appdata\\local\\programs\\python\\python39\\lib\\site-packages (from easyocr) (0.4.2)\n",
      "Requirement already satisfied: PyYAML in c:\\users\\miran\\appdata\\local\\programs\\python\\python39\\lib\\site-packages (from easyocr) (6.0)\n",
      "Requirement already satisfied: Shapely in c:\\users\\miran\\appdata\\local\\programs\\python\\python39\\lib\\site-packages (from easyocr) (1.8.4)\n",
      "Requirement already satisfied: pyclipper in c:\\users\\miran\\appdata\\local\\programs\\python\\python39\\lib\\site-packages (from easyocr) (1.3.0.post3)\n",
      "Requirement already satisfied: ninja in c:\\users\\miran\\appdata\\local\\programs\\python\\python39\\lib\\site-packages (from easyocr) (1.10.2.3)\n",
      "Requirement already satisfied: typing-extensions in c:\\users\\miran\\appdata\\local\\programs\\python\\python39\\lib\\site-packages (from torchvision>=0.5->easyocr) (4.3.0)\n",
      "Requirement already satisfied: requests in c:\\users\\miran\\appdata\\local\\programs\\python\\python39\\lib\\site-packages (from torchvision>=0.5->easyocr) (2.28.2)\n",
      "Requirement already satisfied: six in c:\\users\\miran\\appdata\\local\\programs\\python\\python39\\lib\\site-packages (from python-bidi->easyocr) (1.16.0)\n",
      "Requirement already satisfied: networkx>=2.2 in c:\\users\\miran\\appdata\\local\\programs\\python\\python39\\lib\\site-packages (from scikit-image->easyocr) (2.8.6)\n",
      "Requirement already satisfied: imageio>=2.4.1 in c:\\users\\miran\\appdata\\local\\programs\\python\\python39\\lib\\site-packages (from scikit-image->easyocr) (2.21.2)\n",
      "Requirement already satisfied: tifffile>=2019.7.26 in c:\\users\\miran\\appdata\\local\\programs\\python\\python39\\lib\\site-packages (from scikit-image->easyocr) (2022.8.12)\n",
      "Requirement already satisfied: PyWavelets>=1.1.1 in c:\\users\\miran\\appdata\\local\\programs\\python\\python39\\lib\\site-packages (from scikit-image->easyocr) (1.3.0)\n",
      "Requirement already satisfied: packaging>=20.0 in c:\\users\\miran\\appdata\\roaming\\python\\python39\\site-packages (from scikit-image->easyocr) (21.3)\n",
      "Requirement already satisfied: pyparsing!=3.0.5,>=2.0.2 in c:\\users\\miran\\appdata\\roaming\\python\\python39\\site-packages (from packaging>=20.0->scikit-image->easyocr) (3.0.9)\n",
      "Requirement already satisfied: charset-normalizer<4,>=2 in c:\\users\\miran\\appdata\\local\\programs\\python\\python39\\lib\\site-packages (from requests->torchvision>=0.5->easyocr) (2.1.1)\n",
      "Requirement already satisfied: idna<4,>=2.5 in c:\\users\\miran\\appdata\\local\\programs\\python\\python39\\lib\\site-packages (from requests->torchvision>=0.5->easyocr) (2.7)\n",
      "Requirement already satisfied: urllib3<1.27,>=1.21.1 in c:\\users\\miran\\appdata\\local\\programs\\python\\python39\\lib\\site-packages (from requests->torchvision>=0.5->easyocr) (1.26.15)\n",
      "Requirement already satisfied: certifi>=2017.4.17 in c:\\users\\miran\\appdata\\local\\programs\\python\\python39\\lib\\site-packages (from requests->torchvision>=0.5->easyocr) (2022.6.15)\n",
      "Installing collected packages: opencv-python-headless\n",
      "Successfully installed opencv-python-headless-4.5.4.60\n",
      "Note: you may need to restart the kernel to use updated packages.\n"
     ]
    }
   ],
   "source": [
    "#vscode의 경우 % 매직커맨드 사용\n",
    "\n"
   ]
  },
  {
   "cell_type": "code",
   "execution_count": 1,
   "metadata": {},
   "outputs": [
    {
     "name": "stderr",
     "output_type": "stream",
     "text": [
      "Neither CUDA nor MPS are available - defaulting to CPU. Note: This module is much faster with a GPU.\n"
     ]
    }
   ],
   "source": [
    "import easyocr\n",
    "reader = easyocr.Reader(['ch_sim','en']) # this needs to run only once to load the model into memory\n",
    "result = reader.readtext('./receipt2.jpg')"
   ]
  },
  {
   "cell_type": "code",
   "execution_count": 15,
   "metadata": {},
   "outputs": [
    {
     "name": "stderr",
     "output_type": "stream",
     "text": [
      "Using CPU. Note: This module is much faster with a GPU.\n"
     ]
    },
    {
     "data": {
      "text/plain": [
       "[([[120, 168], [510, 168], [510, 200], [120, 200]],\n",
       "  '[신용카드 (승인) 전표]',\n",
       "  0.7136171181566703),\n",
       " ([[266, 196], [358, 196], [358, 222], [266, 222]],\n",
       "  '고 객 용',\n",
       "  0.39803148448917913),\n",
       " ([[94, 220], [122, 220], [122, 248], [94, 248]], '상', 0.999956131462568),\n",
       " ([[132, 218], [276, 218], [276, 250], [132, 250]],\n",
       "  '호: 왕순대식당',\n",
       "  0.9945652486325715),\n",
       " ([[94, 244], [334, 244], [334, 270], [94, 270]],\n",
       "  '사업자번오: 1UI-11-50148',\n",
       "  0.7229211476374614),\n",
       " ([[346, 244], [496, 244], [496, 272], [346, 272]],\n",
       "  '대표지 : 신영녀',\n",
       "  0.249223727621508),\n",
       " ([[94, 268], [120, 268], [120, 318], [94, 318]], '준', 0.1521531799062501),\n",
       " ([[132, 268], [392, 268], [392, 298], [132, 298]],\n",
       "  '소: 서울 종로구 수표로2길',\n",
       "  0.7591122892870698),\n",
       " ([[130, 294], [166, 294], [166, 318], [130, 318]], '화:', 0.699841738910695),\n",
       " ([[178, 294], [304, 294], [304, 318], [178, 318]],\n",
       "  '02-2266-2379',\n",
       "  0.6044295887961041),\n",
       " ([[92, 340], [514, 340], [514, 372], [92, 372]],\n",
       "  '2017년12월03일 13:01 ND:0048 01-초기사용자',\n",
       "  0.5583684267064034),\n",
       " ([[90, 388], [172, 388], [172, 414], [90, 414]], '카 드명', 0.7784565687179565),\n",
       " ([[206, 390], [338, 390], [338, 416], [206, 416]],\n",
       "  '하나   (구외완)',\n",
       "  0.5122767067923734),\n",
       " ([[86, 410], [170, 410], [170, 436], [86, 436]], '카드번호', 0.989273726940155),\n",
       " ([[204, 412], [310, 412], [310, 438], [204, 438]],\n",
       "  '524335****',\n",
       "  0.9979708399751842),\n",
       " ([[327, 421], [371, 421], [371, 433], [327, 433]],\n",
       "  '#**Y',\n",
       "  0.1486796885728836),\n",
       " ([[81, 431], [320, 431], [320, 462], [81, 462]],\n",
       "  '가행점번호: 00964419733',\n",
       "  0.46350324821663946),\n",
       " ([[74, 454], [168, 454], [168, 510], [74, 510]], '승금', 0.5246656263517439),\n",
       " ([[196, 460], [296, 460], [296, 508], [196, 508]],\n",
       "  'ZAO 원',\n",
       "  0.27593705384341877),\n",
       " ([[76, 500], [164, 500], [164, 532], [76, 532]], '공급가액', 0.7410433118365379),\n",
       " ([[196, 504], [370, 504], [370, 534], [196, 534]],\n",
       "  '21,816 원 부가세',\n",
       "  0.9540025461589444),\n",
       " ([[404, 508], [496, 508], [496, 536], [404, 536]],\n",
       "  '2,184 원',\n",
       "  0.52128694936287),\n",
       " ([[74, 528], [158, 528], [158, 558], [74, 558]], '할부개월', 0.4819733500480652),\n",
       " ([[195, 527], [359, 527], [359, 563], [195, 563]],\n",
       "  '일시불 매입사명',\n",
       "  0.9411766165686632),\n",
       " ([[392, 530], [487, 530], [487, 566], [392, 566]],\n",
       "  '하나외환',\n",
       "  0.8894914984703064),\n",
       " ([[70, 549], [159, 549], [159, 586], [70, 586]], '승인번호', 0.9995201826095581),\n",
       " ([[192, 556], [286, 556], [286, 586], [192, 586]],\n",
       "  '05457012',\n",
       "  0.8397383321706755),\n",
       " ([[70, 578], [158, 578], [158, 610], [70, 610]], '승인일시', 0.9950001835823059),\n",
       " ([[190, 580], [411, 580], [411, 617], [190, 617]],\n",
       "  '2017년[2월03일 13:0I',\n",
       "  0.3898059755550023),\n",
       " ([[68, 632], [92, 632], [92, 658], [68, 658]], '알', 0.9807505195596811),\n",
       " ([[128, 634], [154, 634], [154, 660], [128, 660]], '팀', 0.3248555010067958),\n",
       " ([[191, 634], [403, 634], [403, 673], [191, 673]],\n",
       "  '전자전표 가맣점보관',\n",
       "  0.575136814482627)]"
      ]
     },
     "execution_count": 15,
     "metadata": {},
     "output_type": "execute_result"
    }
   ],
   "source": [
    "import easyocr\n",
    "reader = easyocr.Reader(['ko','en'],gpu=False) # this needs to run only once to load the model into memory\n",
    "result = reader.readtext('./receipt2.jpg')\n",
    "result"
   ]
  },
  {
   "cell_type": "code",
   "execution_count": 16,
   "metadata": {},
   "outputs": [
    {
     "data": {
      "text/plain": [
       "32"
      ]
     },
     "execution_count": 16,
     "metadata": {},
     "output_type": "execute_result"
    }
   ],
   "source": [
    "len(result)"
   ]
  },
  {
   "cell_type": "code",
   "execution_count": 17,
   "metadata": {},
   "outputs": [
    {
     "data": {
      "text/plain": [
       "list"
      ]
     },
     "execution_count": 17,
     "metadata": {},
     "output_type": "execute_result"
    }
   ],
   "source": [
    "type(result)"
   ]
  },
  {
   "cell_type": "code",
   "execution_count": 19,
   "metadata": {},
   "outputs": [
    {
     "data": {
      "text/plain": [
       "([[120, 168], [510, 168], [510, 200], [120, 200]],\n",
       " '[신용카드 (승인) 전표]',\n",
       " 0.7136171181566703)"
      ]
     },
     "execution_count": 19,
     "metadata": {},
     "output_type": "execute_result"
    }
   ],
   "source": [
    "result[0]"
   ]
  },
  {
   "cell_type": "code",
   "execution_count": 21,
   "metadata": {},
   "outputs": [
    {
     "data": {
      "text/plain": [
       "([[266, 196], [358, 196], [358, 222], [266, 222]],\n",
       " '고 객 용',\n",
       " 0.39803148448917913)"
      ]
     },
     "execution_count": 21,
     "metadata": {},
     "output_type": "execute_result"
    }
   ],
   "source": [
    "result[1]"
   ]
  },
  {
   "cell_type": "code",
   "execution_count": 33,
   "metadata": {},
   "outputs": [
    {
     "name": "stdout",
     "output_type": "stream",
     "text": [
      "0 [신용카드 (승인) 전표]\n",
      "1 고 객 용\n",
      "2 상\n",
      "3 호: 왕순대식당\n",
      "4 사업자번오: 1UI-11-50148\n",
      "5 대표지 : 신영녀\n",
      "6 준\n",
      "7 소: 서울 종로구 수표로2길\n",
      "8 화:\n",
      "9 02-2266-2379\n",
      "10 2017년12월03일 13:01 ND:0048 01-초기사용자\n",
      "11 카 드명\n",
      "12 하나   (구외완)\n",
      "13 카드번호\n",
      "14 524335****\n",
      "15 #**Y\n",
      "16 가행점번호: 00964419733\n",
      "17 승금\n",
      "18 ZAO 원\n",
      "19 공급가액\n",
      "20 21,816 원 부가세\n",
      "21 2,184 원\n",
      "22 할부개월\n",
      "23 일시불 매입사명\n",
      "24 하나외환\n",
      "25 승인번호\n",
      "26 05457012\n",
      "27 승인일시\n",
      "28 2017년[2월03일 13:0I\n",
      "29 알\n",
      "30 팀\n",
      "31 전자전표 가맣점보관\n"
     ]
    }
   ],
   "source": [
    "for i,item in enumerate(result):\n",
    "    print(i,item[1])"
   ]
  },
  {
   "cell_type": "code",
   "execution_count": 32,
   "metadata": {},
   "outputs": [
    {
     "name": "stdout",
     "output_type": "stream",
     "text": [
      "[신용카드 (승인) 전표]\n",
      "고 객 용\n",
      "상\n",
      "호: 왕순대식당\n",
      "사업자번오: 1UI-11-50148\n",
      "대표지 : 신영녀\n",
      "준\n",
      "소: 서울 종로구 수표로2길\n",
      "화:\n",
      "02-2266-2379\n",
      "2017년12월03일 13:01 ND:0048 01-초기사용자\n",
      "카 드명\n",
      "하나   (구외완)\n",
      "카드번호\n",
      "524335****\n",
      "#**Y\n",
      "가행점번호: 00964419733\n",
      "승금\n",
      "ZAO 원\n",
      "공급가액\n",
      "21,816 원 부가세\n",
      "2,184 원\n",
      "할부개월\n",
      "일시불 매입사명\n",
      "하나외환\n",
      "승인번호\n",
      "05457012\n",
      "승인일시\n",
      "2017년[2월03일 13:0I\n",
      "알\n",
      "팀\n",
      "전자전표 가맣점보관\n"
     ]
    }
   ],
   "source": [
    "for i in result:\n",
    "    print(i[1])"
   ]
  },
  {
   "cell_type": "code",
   "execution_count": 38,
   "metadata": {},
   "outputs": [],
   "source": [
    "when = result[10][1]\n",
    "where =result[3][1]\n",
    "money = result[20][1]"
   ]
  },
  {
   "cell_type": "code",
   "execution_count": 39,
   "metadata": {},
   "outputs": [
    {
     "name": "stdout",
     "output_type": "stream",
     "text": [
      "날짜: 2017년12월03일 13:01 ND:0048 01-초기사용자\n",
      "장소: 호: 왕순대식당\n",
      "금액: 21,816 원 부가세\n"
     ]
    }
   ],
   "source": [
    "# 언제, 어디서, 얼마를 사용했는지 출력\n",
    "\n",
    "print(\"날짜:\", when)\n",
    "print(\"장소:\", where)\n",
    "print(\"금액:\", money)"
   ]
  },
  {
   "cell_type": "code",
   "execution_count": 89,
   "metadata": {},
   "outputs": [
    {
     "name": "stdout",
     "output_type": "stream",
     "text": [
      "왕순대식당\n",
      "21,816 원 \n"
     ]
    }
   ],
   "source": [
    "when[:17]\n",
    "where.split(':')\n",
    "print(where[3:])\n",
    "print(money[:-3])"
   ]
  },
  {
   "cell_type": "code",
   "execution_count": 54,
   "metadata": {},
   "outputs": [
    {
     "data": {
      "text/plain": [
       "datetime.datetime(2017, 12, 3, 13, 1)"
      ]
     },
     "execution_count": 54,
     "metadata": {},
     "output_type": "execute_result"
    }
   ],
   "source": [
    "import datetime\n",
    "dt = datetime.datetime.strptime(when[:17],'%Y년%m월%d일 %H:%M')\n"
   ]
  },
  {
   "cell_type": "code",
   "execution_count": 56,
   "metadata": {},
   "outputs": [
    {
     "data": {
      "text/plain": [
       "3"
      ]
     },
     "execution_count": 56,
     "metadata": {},
     "output_type": "execute_result"
    }
   ],
   "source": [
    "dt.day"
   ]
  },
  {
   "cell_type": "code",
   "execution_count": 101,
   "metadata": {},
   "outputs": [
    {
     "name": "stdout",
     "output_type": "stream",
     "text": [
      "날짜: 17-12-03\n",
      "시간: 13:01\n",
      "장소: 왕순대식당\n",
      "금액: 21816\n"
     ]
    }
   ],
   "source": [
    "day = dt.strftime('%y-%m-%d')\n",
    "tm =  dt.strftime('%H:%M')\n",
    "pl = where[3:]\n",
    "mo = money[:6].replace(',','')\n",
    "print(f\"날짜: {day}\")\n",
    "print(f\"시간: {tm}\")\n",
    "print(f\"장소: {pl}\")\n",
    "print(f\"금액: {mo}\")"
   ]
  }
 ],
 "metadata": {
  "kernelspec": {
   "display_name": "Python 3.9.13 64-bit",
   "language": "python",
   "name": "python3"
  },
  "language_info": {
   "codemirror_mode": {
    "name": "ipython",
    "version": 3
   },
   "file_extension": ".py",
   "mimetype": "text/x-python",
   "name": "python",
   "nbconvert_exporter": "python",
   "pygments_lexer": "ipython3",
   "version": "3.10.11"
  },
  "orig_nbformat": 4,
  "vscode": {
   "interpreter": {
    "hash": "f6f6af92342e95da19c60530c4a8d649d6818e2b0fb1b93d31b29113cdc90935"
   }
  }
 },
 "nbformat": 4,
 "nbformat_minor": 2
}
