{
 "cells": [
  {
   "attachments": {},
   "cell_type": "markdown",
   "id": "18a4de5e",
   "metadata": {},
   "source": [
    "## QRCode를 생성하는 프로그램\n",
    "\n",
    "* https://pypi.org/project/qrcode/"
   ]
  },
  {
   "attachments": {},
   "cell_type": "markdown",
   "id": "001271e6",
   "metadata": {},
   "source": [
    "## 라이브러리 설치"
   ]
  },
  {
   "cell_type": "code",
   "execution_count": 1,
   "id": "e39c95c8-628e-45f6-b05b-cd46cb45a3aa",
   "metadata": {},
   "outputs": [],
   "source": [
    "import qrcode"
   ]
  },
  {
   "cell_type": "code",
   "execution_count": 7,
   "id": "912103bf-ddbf-476f-89d1-ccf410726913",
   "metadata": {},
   "outputs": [
    {
     "data": {
      "image/jpeg": "[encoded data removed]",
      "image/png": "[encoded data removed]",
      "text/plain": [
       "<qrcode.image.pil.PilImage at 0x1ee8aebb610>"
      ]
     },
     "execution_count": 7,
     "metadata": {},
     "output_type": "execute_result"
    }
   ],
   "source": [
    "\n",
    "img = qrcode.make('https://github.com/purin96')\n",
    "\n",
    "img"
   ]
  },
  {
   "cell_type": "code",
   "execution_count": 8,
   "id": "5d91370b-ac28-4e6f-a7d1-501835164de4",
   "metadata": {},
   "outputs": [],
   "source": [
    "type(img)  # qrcode.image.pil.PilImage\n",
    "img.save(\"아라깃허브.png\")"
   ]
  },
  {
   "cell_type": "code",
   "execution_count": null,
   "id": "d7e0c21e",
   "metadata": {},
   "outputs": [],
   "source": [
    "\n",
    " "
   ]
  },
  {
   "attachments": {},
   "cell_type": "markdown",
   "id": "f4183bfd",
   "metadata": {},
   "source": []
  },
  {
   "cell_type": "code",
   "execution_count": 5,
   "id": "d7f4b9e6-4af4-48ce-8aa5-307b49cff865",
   "metadata": {},
   "outputs": [],
   "source": [
    "\n"
   ]
  },
  {
   "attachments": {},
   "cell_type": "markdown",
   "id": "b30a981a",
   "metadata": {},
   "source": [
    "## QR code 생성기"
   ]
  },
  {
   "cell_type": "code",
   "execution_count": 22,
   "id": "be9841a7",
   "metadata": {},
   "outputs": [
    {
     "name": "stdout",
     "output_type": "stream",
     "text": [
      "<qrcode.image.pil.PilImage object at 0x000001EE8C01D330>\n"
     ]
    }
   ],
   "source": [
    "# 네이버, 구글, 유튜브 qr 코드 중 하나를 만듭니다.\n",
    "# 1. 사용자에게 사이트 이름을 입력 받는다.\n",
    "# 2. 입력 받은 이름이 네이버,구글, 유튜브 중에 있는지 확인한다.\n",
    "# 2-1. 입력 받은 사이트의 qrcode를 만든다.\n",
    "# 2-2. qrcode를 저장한다. (파일 이름 포맷예: QR_네이버.png)\n",
    "# 2-3. qrcode를 출력한다.\n",
    "# 3. 없다는 'not found' 메시지를 출력한다.\n",
    "\n",
    "import qrcode\n",
    "b={\"네이버\":\"www.naver.com\" ,\"구글\":\"https://www.google.co.kr/\" ,\"유튜브\":\"https://www.youtube.com/?gl=KR&hl=ko\"}\n",
    "a= input(\"사이트를 입력하세요(네이버, 구글, 유투브)\")\n",
    "\n",
    "if a in b.keys():\n",
    "    img = qrcode.make(b[a])\n",
    "    img.save(f\"QR_{a}.png\")\n",
    "    print(img)\n",
    "else:\n",
    "    print(\"not found\")\n",
    "\n",
    "\n"
   ]
  },
  {
   "cell_type": "code",
   "execution_count": null,
   "id": "83f4e057",
   "metadata": {},
   "outputs": [],
   "source": []
  }
 ],
 "metadata": {
  "kernelspec": {
   "display_name": "Python 3.9.13 64-bit",
   "language": "python",
   "name": "python3"
  },
  "language_info": {
   "codemirror_mode": {
    "name": "ipython",
    "version": 3
   },
   "file_extension": ".py",
   "mimetype": "text/x-python",
   "name": "python",
   "nbconvert_exporter": "python",
   "pygments_lexer": "ipython3",
   "version": "3.10.11"
  },
  "vscode": {
   "interpreter": {
    "hash": "f6f6af92342e95da19c60530c4a8d649d6818e2b0fb1b93d31b29113cdc90935"
   }
  }
 },
 "nbformat": 4,
 "nbformat_minor": 5
}
